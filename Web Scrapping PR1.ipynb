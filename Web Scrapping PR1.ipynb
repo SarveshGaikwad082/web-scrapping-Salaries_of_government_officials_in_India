{
 "cells": [
  {
   "cell_type": "code",
   "execution_count": 5,
   "id": "5b36911b-5cc0-49d0-8b15-edbc1b568be3",
   "metadata": {},
   "outputs": [],
   "source": [
    "from bs4 import BeautifulSoup\n",
    "import requests\n",
    "import pandas as pd"
   ]
  },
  {
   "cell_type": "code",
   "execution_count": 21,
   "id": "e2ff0840-96ac-4323-9381-c4480437498b",
   "metadata": {},
   "outputs": [],
   "source": [
    "url = \"https://en.wikipedia.org/wiki/Salaries_of_government_officials_in_India\"\n",
    "page = requests.get(url)\n",
    "soup = BeautifulSoup(page.text,'html.parser')"
   ]
  },
  {
   "cell_type": "code",
   "execution_count": 39,
   "id": "0c2cc954-577c-4130-89f3-a1b35d8d6771",
   "metadata": {},
   "outputs": [
    {
     "name": "stdout",
     "output_type": "stream",
     "text": [
      "Salaries of government officials in India\n"
     ]
    }
   ],
   "source": [
    "# IMPORT A  TITLE OF WEBSIT\n",
    "# <h1 id=\"firstHeading\" class=\"firstHeading mw-first-heading\">…</h1>\n",
    "page_label = soup.find(class_=\"firstHeading\") # page_label = soup.find(class_= \"h1 id\")\n",
    "# print(page_label.text)\n",
    "for label in page_label:\n",
    "    print(label.text)    # print(page_label.text) # here we print label in text format # __.text is complusory"
   ]
  },
  {
   "cell_type": "code",
   "execution_count": 54,
   "id": "0b694a83-2684-4dde-a1c5-5b93d2c2bac3",
   "metadata": {},
   "outputs": [
    {
     "name": "stdout",
     "output_type": "stream",
     "text": [
      "['Position in the Indian order of precedence', 'Post', 'Net Salary per month (including other emoluments and allowances)', 'All  emoluments and allowances', 'References']\n"
     ]
    }
   ],
   "source": [
    "# import the table title from website\n",
    "Table = soup.find(class_ = \"wikitable\")\n",
    "# print(Table)\n",
    "table_title = Table.find_all(\"th\")\n",
    "#print(table_title)\n",
    "# use list compresion for import all label form tabel of website\n",
    "Salary_of_gov = [title.text.strip() for title in table_title]\n",
    "print(Salary_of_gov)"
   ]
  },
  {
   "cell_type": "code",
   "execution_count": 58,
   "id": "cd80cc25-0b17-4497-adb5-99c2987e3c8f",
   "metadata": {},
   "outputs": [
    {
     "data": {
      "text/html": [
       "<div>\n",
       "<style scoped>\n",
       "    .dataframe tbody tr th:only-of-type {\n",
       "        vertical-align: middle;\n",
       "    }\n",
       "\n",
       "    .dataframe tbody tr th {\n",
       "        vertical-align: top;\n",
       "    }\n",
       "\n",
       "    .dataframe thead th {\n",
       "        text-align: right;\n",
       "    }\n",
       "</style>\n",
       "<table border=\"1\" class=\"dataframe\">\n",
       "  <thead>\n",
       "    <tr style=\"text-align: right;\">\n",
       "      <th></th>\n",
       "      <th>Position in the Indian order of precedence</th>\n",
       "      <th>Post</th>\n",
       "      <th>Net Salary per month (including other emoluments and allowances)</th>\n",
       "      <th>All  emoluments and allowances</th>\n",
       "      <th>References</th>\n",
       "    </tr>\n",
       "  </thead>\n",
       "  <tbody>\n",
       "  </tbody>\n",
       "</table>\n",
       "</div>"
      ],
      "text/plain": [
       "Empty DataFrame\n",
       "Columns: [Position in the Indian order of precedence, Post, Net Salary per month (including other emoluments and allowances), All  emoluments and allowances, References]\n",
       "Index: []"
      ]
     },
     "execution_count": 58,
     "metadata": {},
     "output_type": "execute_result"
    }
   ],
   "source": [
    "df = pd.DataFrame(columns = Salary_of_gov)\n",
    "df"
   ]
  },
  {
   "cell_type": "code",
   "execution_count": 59,
   "id": "9e162d50-435f-4a9a-8496-e8e5e76f4dc1",
   "metadata": {},
   "outputs": [
    {
     "name": "stdout",
     "output_type": "stream",
     "text": [
      "Empty DataFrame\n",
      "Columns: [Position in the Indian order of precedence, Post, Net Salary per month (including other emoluments and allowances), All  emoluments and allowances, References]\n",
      "Index: []\n"
     ]
    }
   ],
   "source": [
    "print(df)"
   ]
  },
  {
   "cell_type": "code",
   "execution_count": 60,
   "id": "603a04c5-3faa-434e-a8bb-fd9aad75f482",
   "metadata": {},
   "outputs": [],
   "source": [
    "df = df.rename(columns={'Net Salary per month (including other emoluments and allowances)': 'Net Salary per month'})"
   ]
  },
  {
   "cell_type": "code",
   "execution_count": 61,
   "id": "45095a36-fb9c-428e-bbbe-0b13ff57a280",
   "metadata": {},
   "outputs": [
    {
     "data": {
      "text/html": [
       "<div>\n",
       "<style scoped>\n",
       "    .dataframe tbody tr th:only-of-type {\n",
       "        vertical-align: middle;\n",
       "    }\n",
       "\n",
       "    .dataframe tbody tr th {\n",
       "        vertical-align: top;\n",
       "    }\n",
       "\n",
       "    .dataframe thead th {\n",
       "        text-align: right;\n",
       "    }\n",
       "</style>\n",
       "<table border=\"1\" class=\"dataframe\">\n",
       "  <thead>\n",
       "    <tr style=\"text-align: right;\">\n",
       "      <th></th>\n",
       "      <th>Position in the Indian order of precedence</th>\n",
       "      <th>Post</th>\n",
       "      <th>Net Salary per month</th>\n",
       "      <th>All  emoluments and allowances</th>\n",
       "      <th>References</th>\n",
       "    </tr>\n",
       "  </thead>\n",
       "  <tbody>\n",
       "  </tbody>\n",
       "</table>\n",
       "</div>"
      ],
      "text/plain": [
       "Empty DataFrame\n",
       "Columns: [Position in the Indian order of precedence, Post, Net Salary per month, All  emoluments and allowances, References]\n",
       "Index: []"
      ]
     },
     "execution_count": 61,
     "metadata": {},
     "output_type": "execute_result"
    }
   ],
   "source": [
    "df"
   ]
  },
  {
   "cell_type": "code",
   "execution_count": 96,
   "id": "c84bb591-f3d3-4c7d-be63-dde61ef4042d",
   "metadata": {},
   "outputs": [
    {
     "name": "stdout",
     "output_type": "stream",
     "text": [
      "Skipping row: ['9', 'Judges of the Supreme Court', '₹250,000 (US$3,000)', '[10][11][14]'] due to length mismatch.\n",
      "Skipping row: ['9A', 'Chief Election Commissioner', '[15][16][17]'] due to length mismatch.\n",
      "Skipping row: ['Comptroller and Auditor General', ''] due to length mismatch.\n",
      "Skipping row: ['Chairperson of the Union Public Service Commission', ''] due to length mismatch.\n",
      "Skipping row: ['11', 'Attorney General', ''] due to length mismatch.\n",
      "Skipping row: ['Cabinet Secretary', '[18][19][20]'] due to length mismatch.\n",
      "Skipping row: ['Chiefs of Staff (Army, Air, Naval) in the rank of General and equivalent ranks in the Indian Armed Forces', '[21][19][20]'] due to length mismatch.\n",
      "Skipping row: ['14', 'Chief Justices of High Courts', '[10][11]'] due to length mismatch.\n",
      "Skipping row: ['16', 'Judges of High Courts', '₹225,000 (US$2,700)', '[10][11]'] due to length mismatch.\n",
      "Skipping row: ['Chief Secretaries to State Governments', '[19][20]'] due to length mismatch.\n",
      "Skipping row: ['25', 'Additional Secretaries to the Union Government\\nRegistrar General/Registrar of the Supreme Court', '₹182,200 (US$2,200) (Minimum Pay) to ₹224,100 (US$2,700)  (Maximum Pay)[19][20]', '[19][20]'] due to length mismatch.\n",
      "Skipping row: ['Principal Secretaries to the State Governments\\nMembers of State Public Service Commissions\\nRegistrar Generals/Registrars of High Courts', '[19][20]'] due to length mismatch.\n",
      "Skipping row: ['26', 'Joint Secretaries to the Union Government\\nMajor General and equivalent ranks in the Indian Armed Forces\\nAdditional Registrars of the Supreme Court', '₹144,200 (US$1,700) (Minimum Pay) to ₹218,200 (US$2,600) (Maximum Pay)[19][20]', '[19][20]'] due to length mismatch.\n",
      "Skipping row: ['Secretaries to State Governments', '[19][20]'] due to length mismatch.\n"
     ]
    }
   ],
   "source": [
    "rows_data = []\n",
    "columns_data = Table.find_all(\"tr\")\n",
    "# print(columns_data)\n",
    "for rows in columns_data[1:]:\n",
    "    row_data = rows.find_all('td')\n",
    "    gov_row_data = [data.text.strip() for data in row_data]\n",
    "    if len(gov_row_data) == len(Salary_of_gov):  # Ensure the row has the correct number of columns\n",
    "        rows_data.append(gov_row_data)\n",
    "    else:\n",
    "        print(f\"Skipping row: {gov_row_data} due to length mismatch.\")\n"
   ]
  },
  {
   "cell_type": "code",
   "execution_count": 98,
   "id": "4a50e539-a9db-4319-8096-d0ae1ccd58f1",
   "metadata": {},
   "outputs": [
    {
     "data": {
      "text/html": [
       "<div>\n",
       "<style scoped>\n",
       "    .dataframe tbody tr th:only-of-type {\n",
       "        vertical-align: middle;\n",
       "    }\n",
       "\n",
       "    .dataframe tbody tr th {\n",
       "        vertical-align: top;\n",
       "    }\n",
       "\n",
       "    .dataframe thead th {\n",
       "        text-align: right;\n",
       "    }\n",
       "</style>\n",
       "<table border=\"1\" class=\"dataframe\">\n",
       "  <thead>\n",
       "    <tr style=\"text-align: right;\">\n",
       "      <th></th>\n",
       "      <th>Position in the Indian order of precedence</th>\n",
       "      <th>Post</th>\n",
       "      <th>Net Salary per month (including other emoluments and allowances)</th>\n",
       "      <th>All  emoluments and allowances</th>\n",
       "      <th>References</th>\n",
       "    </tr>\n",
       "  </thead>\n",
       "  <tbody>\n",
       "    <tr>\n",
       "      <th>0</th>\n",
       "      <td>1</td>\n",
       "      <td>President</td>\n",
       "      <td>₹500,000 (US$6,000)</td>\n",
       "      <td>+ Other allowances fixed to the President.</td>\n",
       "      <td>[1][2][3]</td>\n",
       "    </tr>\n",
       "    <tr>\n",
       "      <th>1</th>\n",
       "      <td>2</td>\n",
       "      <td>Vice President</td>\n",
       "      <td>₹400,000 (US$4,800)</td>\n",
       "      <td>+ Other allowances fixed to the Vice President.</td>\n",
       "      <td>[4][5][3]</td>\n",
       "    </tr>\n",
       "    <tr>\n",
       "      <th>2</th>\n",
       "      <td>3</td>\n",
       "      <td>Prime Minister</td>\n",
       "      <td>₹166,000 (US$2,000)</td>\n",
       "      <td>+ Other allowances fixed to the Prime Minister.</td>\n",
       "      <td>[3][6]</td>\n",
       "    </tr>\n",
       "    <tr>\n",
       "      <th>3</th>\n",
       "      <td>4</td>\n",
       "      <td>Governors</td>\n",
       "      <td>₹350,000 (US$4,200)</td>\n",
       "      <td>+ Other allowances fixed to Governors.</td>\n",
       "      <td>[7][8][9]</td>\n",
       "    </tr>\n",
       "    <tr>\n",
       "      <th>4</th>\n",
       "      <td>5</td>\n",
       "      <td>Chief Justice</td>\n",
       "      <td>₹280,000 (US$3,400)</td>\n",
       "      <td>Not Applicable</td>\n",
       "      <td>[10][11][12][13]</td>\n",
       "    </tr>\n",
       "    <tr>\n",
       "      <th>5</th>\n",
       "      <td>21</td>\n",
       "      <td>Member of Parliament</td>\n",
       "      <td>₹100,000 (US$1,200)[a]</td>\n",
       "      <td>+ Other allowances fixed to MPs.</td>\n",
       "      <td>[22][23]</td>\n",
       "    </tr>\n",
       "    <tr>\n",
       "      <th>6</th>\n",
       "      <td>23</td>\n",
       "      <td>Secretaries to the Union Government\\nVice Chie...</td>\n",
       "      <td>₹225,000 (US$2,700)</td>\n",
       "      <td>Not Applicable</td>\n",
       "      <td>[19][20]</td>\n",
       "    </tr>\n",
       "  </tbody>\n",
       "</table>\n",
       "</div>"
      ],
      "text/plain": [
       "  Position in the Indian order of precedence  \\\n",
       "0                                          1   \n",
       "1                                          2   \n",
       "2                                          3   \n",
       "3                                          4   \n",
       "4                                          5   \n",
       "5                                         21   \n",
       "6                                         23   \n",
       "\n",
       "                                                Post  \\\n",
       "0                                          President   \n",
       "1                                     Vice President   \n",
       "2                                     Prime Minister   \n",
       "3                                          Governors   \n",
       "4                                      Chief Justice   \n",
       "5                               Member of Parliament   \n",
       "6  Secretaries to the Union Government\\nVice Chie...   \n",
       "\n",
       "  Net Salary per month (including other emoluments and allowances)  \\\n",
       "0                                ₹500,000 (US$6,000)                 \n",
       "1                                ₹400,000 (US$4,800)                 \n",
       "2                                ₹166,000 (US$2,000)                 \n",
       "3                                ₹350,000 (US$4,200)                 \n",
       "4                                ₹280,000 (US$3,400)                 \n",
       "5                             ₹100,000 (US$1,200)[a]                 \n",
       "6                                ₹225,000 (US$2,700)                 \n",
       "\n",
       "                    All  emoluments and allowances        References  \n",
       "0       + Other allowances fixed to the President.         [1][2][3]  \n",
       "1  + Other allowances fixed to the Vice President.         [4][5][3]  \n",
       "2  + Other allowances fixed to the Prime Minister.            [3][6]  \n",
       "3           + Other allowances fixed to Governors.         [7][8][9]  \n",
       "4                                   Not Applicable  [10][11][12][13]  \n",
       "5                 + Other allowances fixed to MPs.          [22][23]  \n",
       "6                                   Not Applicable          [19][20]  "
      ]
     },
     "execution_count": 98,
     "metadata": {},
     "output_type": "execute_result"
    }
   ],
   "source": [
    "# Add the extracted row data to the DataFrame\n",
    "df = pd.DataFrame(rows_data, columns=Salary_of_gov)\n",
    "df"
   ]
  },
  {
   "cell_type": "code",
   "execution_count": 99,
   "id": "160288b1-edcf-4ce4-b63e-e176542b293c",
   "metadata": {},
   "outputs": [],
   "source": [
    "df.to_csv(r'C:\\Users\\sarve\\Web_scrap_csv_file\\gov.salaries.csv',index=False)"
   ]
  },
  {
   "cell_type": "code",
   "execution_count": 103,
   "id": "06dd93f5-1820-458c-bb86-ff965f8b41f7",
   "metadata": {},
   "outputs": [
    {
     "data": {
      "text/html": [
       "<div>\n",
       "<style scoped>\n",
       "    .dataframe tbody tr th:only-of-type {\n",
       "        vertical-align: middle;\n",
       "    }\n",
       "\n",
       "    .dataframe tbody tr th {\n",
       "        vertical-align: top;\n",
       "    }\n",
       "\n",
       "    .dataframe thead th {\n",
       "        text-align: right;\n",
       "    }\n",
       "</style>\n",
       "<table border=\"1\" class=\"dataframe\">\n",
       "  <thead>\n",
       "    <tr style=\"text-align: right;\">\n",
       "      <th></th>\n",
       "      <th>Position in the Indian order of precedence</th>\n",
       "      <th>Post</th>\n",
       "      <th>Net Salary per month (including other emoluments and allowances)</th>\n",
       "      <th>All  emoluments and allowances</th>\n",
       "      <th>References</th>\n",
       "    </tr>\n",
       "  </thead>\n",
       "  <tbody>\n",
       "    <tr>\n",
       "      <th>0</th>\n",
       "      <td>1</td>\n",
       "      <td>President</td>\n",
       "      <td>₹500,000 (US$6,000)</td>\n",
       "      <td>+ Other allowances fixed to the President.</td>\n",
       "      <td>[1][2][3]</td>\n",
       "    </tr>\n",
       "    <tr>\n",
       "      <th>1</th>\n",
       "      <td>2</td>\n",
       "      <td>Vice President</td>\n",
       "      <td>₹400,000 (US$4,800)</td>\n",
       "      <td>+ Other allowances fixed to the Vice President.</td>\n",
       "      <td>[4][5][3]</td>\n",
       "    </tr>\n",
       "    <tr>\n",
       "      <th>2</th>\n",
       "      <td>3</td>\n",
       "      <td>Prime Minister</td>\n",
       "      <td>₹166,000 (US$2,000)</td>\n",
       "      <td>+ Other allowances fixed to the Prime Minister.</td>\n",
       "      <td>[3][6]</td>\n",
       "    </tr>\n",
       "    <tr>\n",
       "      <th>3</th>\n",
       "      <td>4</td>\n",
       "      <td>Governors</td>\n",
       "      <td>₹350,000 (US$4,200)</td>\n",
       "      <td>+ Other allowances fixed to Governors.</td>\n",
       "      <td>[7][8][9]</td>\n",
       "    </tr>\n",
       "    <tr>\n",
       "      <th>4</th>\n",
       "      <td>5</td>\n",
       "      <td>Chief Justice</td>\n",
       "      <td>₹280,000 (US$3,400)</td>\n",
       "      <td>Not Applicable</td>\n",
       "      <td>[10][11][12][13]</td>\n",
       "    </tr>\n",
       "  </tbody>\n",
       "</table>\n",
       "</div>"
      ],
      "text/plain": [
       "   Position in the Indian order of precedence            Post  \\\n",
       "0                                           1       President   \n",
       "1                                           2  Vice President   \n",
       "2                                           3  Prime Minister   \n",
       "3                                           4       Governors   \n",
       "4                                           5   Chief Justice   \n",
       "\n",
       "  Net Salary per month (including other emoluments and allowances)  \\\n",
       "0                                ₹500,000 (US$6,000)                 \n",
       "1                                ₹400,000 (US$4,800)                 \n",
       "2                                ₹166,000 (US$2,000)                 \n",
       "3                                ₹350,000 (US$4,200)                 \n",
       "4                                ₹280,000 (US$3,400)                 \n",
       "\n",
       "                    All  emoluments and allowances        References  \n",
       "0       + Other allowances fixed to the President.         [1][2][3]  \n",
       "1  + Other allowances fixed to the Vice President.         [4][5][3]  \n",
       "2  + Other allowances fixed to the Prime Minister.            [3][6]  \n",
       "3           + Other allowances fixed to Governors.         [7][8][9]  \n",
       "4                                   Not Applicable  [10][11][12][13]  "
      ]
     },
     "execution_count": 103,
     "metadata": {},
     "output_type": "execute_result"
    }
   ],
   "source": [
    "import pandas as pd\n",
    "\n",
    "# Correctly formatted file path with double backslashes\n",
    "file_path = 'C:\\\\Users\\\\sarve\\\\Web_scrap_csv_file\\\\gov.salaries.csv'\n",
    "\n",
    "# Read the CSV file\n",
    "df = pd.read_csv(file_path)\n",
    "\n",
    "# Display the first few rows of the DataFrame\n",
    "df.head()"
   ]
  },
  {
   "cell_type": "code",
   "execution_count": null,
   "id": "f2864ec4-386e-46a7-b757-287725a54334",
   "metadata": {},
   "outputs": [],
   "source": []
  }
 ],
 "metadata": {
  "kernelspec": {
   "display_name": "Python 3 (ipykernel)",
   "language": "python",
   "name": "python3"
  },
  "language_info": {
   "codemirror_mode": {
    "name": "ipython",
    "version": 3
   },
   "file_extension": ".py",
   "mimetype": "text/x-python",
   "name": "python",
   "nbconvert_exporter": "python",
   "pygments_lexer": "ipython3",
   "version": "3.11.7"
  }
 },
 "nbformat": 4,
 "nbformat_minor": 5
}
